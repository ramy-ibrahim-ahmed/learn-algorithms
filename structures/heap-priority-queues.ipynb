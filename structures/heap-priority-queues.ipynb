{
 "cells": [
  {
   "cell_type": "markdown",
   "metadata": {},
   "source": [
    "# Heaps and Priority Queues:\n",
    "\n",
    "- Heaps are a variant of the typical binary tree with special condition that each node must be smaller than its childs no matter else.\n",
    "\n",
    "- This intoduce the priority of things as we pop we get the min and the heap handle rearrange itself in *O(log n)* as it just need to go throw one path in the tree.\n",
    "\n",
    "## Min Heap\n",
    "The heap where the min numbers is the priority.\n",
    "\n",
    "### heapq\n",
    "\n",
    "Standard liberary for work with heaps, It just provide the min type of heaps.\n",
    "\n",
    "- `heapify` we use this func to convert a list into a heap in Time: O(n) and Space: O(1) due to swapping, we start from the last parents and compare them with their childs to keep the min values as the last parents then we go furthur on top, when present heap in an array structure we can access the childs by the index of the *(parent * 2) + 1*.\n",
    "  \n",
    "- `heappush` we can insert an element in the heap with *O(log n)* due to insert the element and in the wrost case it will be down in a single path till the end childs.\n",
    "\n",
    "- `heappop` we can pop the top node which is the minimum of the heap and assign it to a variable with also *O(log n)* due to go in a single path to adjust the heap after pop the most top node its min child will be the top node and its path will be adjusted.\n",
    "\n",
    "- `heappushpop` we can pop the min element and push a new one in the same operation and adjust the heap in a single operation after the two actions with also *O(log n)*.\n",
    "\n",
    "- `peak heap` we can peak the minimun value without pop it in *O(1)* because the firts node is the min."
   ]
  },
  {
   "cell_type": "code",
   "execution_count": 1,
   "metadata": {},
   "outputs": [
    {
     "name": "stdout",
     "output_type": "stream",
     "text": [
      "Min Heap: [-4, 0, 1, 3, 2, 5, 10, 8, 12, 9]\n",
      "Heap after pushing 4: [-4, 0, 1, 3, 2, 5, 10, 8, 12, 9, 4]\n",
      "Heap after poping the minimum: [0, 2, 1, 3, 4, 5, 10, 8, 12, 9]\n",
      "Heap after doing pop and push 99 in the same adjusting operation: [1, 2, 5, 3, 4, 99, 10, 8, 12, 9]\n",
      "Peak operation: 1\n"
     ]
    }
   ],
   "source": [
    "import heapq\n",
    "\n",
    "A = [-4, 3, 1, 0, 2, 5, 10, 8, 12, 9]\n",
    "\n",
    "heapq.heapify(A)\n",
    "print(f\"Min Heap: {A}\")\n",
    "\n",
    "heapq.heappush(A, 4)\n",
    "print(f\"Heap after pushing 4: {A}\")\n",
    "\n",
    "\n",
    "minn = heapq.heappop(A)\n",
    "print(f\"Heap after poping the minimum: {A}\")\n",
    "\n",
    "heapq.heappushpop(A, 99)\n",
    "print(f\"Heap after doing pop and push 99 in the same adjusting operation: {A}\")\n",
    "\n",
    "print(f\"Peak operation: {A[0]}\")"
   ]
  },
  {
   "cell_type": "markdown",
   "metadata": {},
   "source": [
    "## Heap Sort\n",
    "Every step:\n",
    "1. heapify the array by *O(n)*\n",
    "2. pop with *O(log n)*\n",
    "\n",
    "With total *O(n log n)* with space *O(1)* due to swap.\n",
    "The following implementation is space *O(n)* to simplify."
   ]
  },
  {
   "cell_type": "code",
   "execution_count": 2,
   "metadata": {},
   "outputs": [
    {
     "name": "stdout",
     "output_type": "stream",
     "text": [
      "Array before: [1, 3, 5, 7, 9, 2, 4, 6, 8, 0]\n",
      "Array after: [0, 1, 2, 3, 4, 5, 6, 7, 8, 9]\n"
     ]
    }
   ],
   "source": [
    "def heapsort(array:list):\n",
    "    heapq.heapify(array)\n",
    "    n = len(array)\n",
    "    new_list = [0] * n\n",
    "\n",
    "    for i in range(n):\n",
    "        minn = heapq.heappop(array)\n",
    "        new_list[i] = minn\n",
    "    \n",
    "    return new_list\n",
    "\n",
    "array = [1, 3, 5, 7, 9, 2, 4, 6, 8, 0]\n",
    "print(f\"Array before: {array}\")\n",
    "print(f\"Array after: {heapsort(array)}\")"
   ]
  },
  {
   "cell_type": "markdown",
   "metadata": {},
   "source": [
    "## Max Heap\n",
    "Nativly it is not supported in heapq but we can use the fact of - values as following:"
   ]
  },
  {
   "cell_type": "code",
   "execution_count": 3,
   "metadata": {},
   "outputs": [
    {
     "name": "stdout",
     "output_type": "stream",
     "text": [
      "Max Heap: [-12, -9, -10, -8, -2, -5, -1, -3, 0, 4]\n",
      "Heap after poping the largest: [-10, -9, -5, -8, -2, 4, -1, -3, 0] and the largest: 12\n",
      "Heap after pushing 7 as -7: [-10, -9, -5, -8, -7, 4, -1, -3, 0, -2]\n"
     ]
    }
   ],
   "source": [
    "B = [-4, 3, 1, 0, 2, 5, 10, 8, 12, 9]\n",
    "n = len(B)\n",
    "\n",
    "for i in range(n):\n",
    "    B[i] = -B[i]\n",
    "\n",
    "heapq.heapify(B)\n",
    "print(f\"Max Heap: {B}\")\n",
    "\n",
    "largest = -heapq.heappop(B)\n",
    "print(f\"Heap after poping the largest: {B} and the largest: {largest}\")\n",
    "\n",
    "heapq.heappush(B, -7)\n",
    "print(f\"Heap after pushing 7 as -7: {B}\")"
   ]
  },
  {
   "cell_type": "markdown",
   "metadata": {},
   "source": [
    "## Priority Queue\n",
    "We can store key-value items due to their priorities, here is an example of occurence priority."
   ]
  },
  {
   "cell_type": "code",
   "execution_count": 4,
   "metadata": {},
   "outputs": [
    {
     "name": "stdout",
     "output_type": "stream",
     "text": [
      "Items and thier occurence: Counter({'a': 4, 'b': 3, 'c': 2})\n",
      "Priority Queue: [(2, 'c'), (4, 'a'), (3, 'b')]\n"
     ]
    }
   ],
   "source": [
    "from collections import Counter\n",
    "\n",
    "D = [\"a\", \"b\", \"b\", \"a\", \"a\", \"c\", \"a\", \"c\", \"b\"]\n",
    "counter = Counter(D)\n",
    "\n",
    "pqueue = []\n",
    "for k, v in counter.items():\n",
    "    heapq.heappush(pqueue, (v, k))\n",
    "\n",
    "print(f\"Items and thier occurence: {counter}\")\n",
    "print(f\"Priority Queue: {pqueue}\")"
   ]
  }
 ],
 "metadata": {
  "kernelspec": {
   "display_name": "Python 3",
   "language": "python",
   "name": "python3"
  },
  "language_info": {
   "codemirror_mode": {
    "name": "ipython",
    "version": 3
   },
   "file_extension": ".py",
   "mimetype": "text/x-python",
   "name": "python",
   "nbconvert_exporter": "python",
   "pygments_lexer": "ipython3",
   "version": "3.13.1"
  }
 },
 "nbformat": 4,
 "nbformat_minor": 2
}
